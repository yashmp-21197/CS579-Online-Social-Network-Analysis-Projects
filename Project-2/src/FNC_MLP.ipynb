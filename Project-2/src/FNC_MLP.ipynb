{
 "cells": [
  {
   "cell_type": "markdown",
   "metadata": {},
   "source": [
    "# imports"
   ]
  },
  {
   "cell_type": "code",
   "execution_count": 1,
   "metadata": {},
   "outputs": [],
   "source": [
    "import pandas as pd\n",
    "import numpy as np\n",
    "\n",
    "from sklearn import preprocessing\n",
    "from sklearn.feature_extraction.text import TfidfTransformer \n",
    "from sklearn.feature_extraction.text import CountVectorizer \n",
    "from sklearn.metrics.pairwise import cosine_similarity\n",
    "from sklearn.metrics import confusion_matrix, precision_recall_fscore_support\n",
    "import seaborn as sn\n",
    "import matplotlib.pyplot as plt\n",
    "\n",
    "from scipy import sparse\n",
    "from scipy.sparse import hstack, vstack\n",
    "\n",
    "from sklearn.neural_network import MLPClassifier\n",
    "import pickle\n",
    "\n",
    "import nltk\n",
    "import re\n",
    "\n",
    "import os\n",
    "import json\n",
    "import math"
   ]
  },
  {
   "cell_type": "markdown",
   "metadata": {},
   "source": [
    "# global parameters"
   ]
  },
  {
   "cell_type": "code",
   "execution_count": 2,
   "metadata": {},
   "outputs": [],
   "source": [
    "random_seed = 2020\n",
    "np.random.seed(random_seed)\n",
    "\n",
    "input_data_dir = f'{os.getcwd()}\\\\option1-data'\n",
    "features_data_dir = f'{os.getcwd()}\\\\features-data'\n",
    "model_data_dir = f'{os.getcwd()}\\\\model-data'\n",
    "output_data_dir = f'{os.getcwd()}\\\\submission-data'\n",
    "\n",
    "iterations = 20\n",
    "model_file_name = f'model_{iterations}.sav'"
   ]
  },
  {
   "cell_type": "markdown",
   "metadata": {},
   "source": [
    "# functions for data preprocessing and feature extraction"
   ]
  },
  {
   "cell_type": "code",
   "execution_count": 3,
   "metadata": {},
   "outputs": [],
   "source": [
    "def id_preprocessing(data = None):\n",
    "    df_id = data['id']\n",
    "    ids = df_id.to_numpy().reshape((data.shape[0], 1))\n",
    "    ids = sparse.csr_matrix(ids)\n",
    "    return ids"
   ]
  },
  {
   "cell_type": "code",
   "execution_count": 4,
   "metadata": {},
   "outputs": [],
   "source": [
    "def train_input_data_preprocessing(data = None):\n",
    "    \n",
    "    df_id = data['id']\n",
    "    ids = df_id.to_numpy()\n",
    "    df_tid1 = data['tid1']\n",
    "    tid1s = df_tid1.to_numpy()\n",
    "    df_tid2 = data['tid2']\n",
    "    tid2s = df_tid2.to_numpy()\n",
    "    df_title1_en = data['title1_en']\n",
    "    title1_ens = df_title1_en.to_numpy()\n",
    "    df_title2_en = data['title2_en']\n",
    "    title2_ens = df_title2_en.to_numpy()\n",
    "    \n",
    "    length_data = data.shape[0]\n",
    "    \n",
    "    dict_title_ens = dict()\n",
    "    for index in range(length_data):\n",
    "        dict_title_ens[tid1s[index]] = title1_ens[index]\n",
    "        dict_title_ens[tid2s[index]] = title2_ens[index]\n",
    "    \n",
    "    dict_tokens_articles = dict()\n",
    "    for key_article in dict_title_ens.keys():\n",
    "        text_article = dict_title_ens[key_article]\n",
    "        corpus_article = nltk.sent_tokenize(text_article)\n",
    "        for index in range(len(corpus_article)):\n",
    "            corpus_article[index] = corpus_article[index].lower()\n",
    "            corpus_article[index] = re.sub(r'\\W', ' ', corpus_article[index])\n",
    "            corpus_article[index] = re.sub(r'\\s+', ' ', corpus_article[index])\n",
    "        tokens_article = \"\"\n",
    "        for sentence_article in corpus_article:\n",
    "            tokens = nltk.word_tokenize(sentence_article)\n",
    "            for token in tokens:\n",
    "                tokens_article += f'{token} '\n",
    "        dict_tokens_articles[key_article] = tokens_article.strip()\n",
    "    \n",
    "    keys = dict_tokens_articles.keys()\n",
    "    values = dict_tokens_articles.values()\n",
    "    \n",
    "    cv=CountVectorizer() \n",
    "    word_count_vector = cv.fit_transform(values)\n",
    "    tf_idf_transformer = TfidfTransformer(smooth_idf=True, use_idf=True) \n",
    "    tf_idf_transformer.fit(word_count_vector)\n",
    "    count_vector = cv.transform(values) \n",
    "    tf_idf_vectors = tf_idf_transformer.transform(count_vector)\n",
    "    \n",
    "    dict_tf_idf_vectors = dict()\n",
    "    for k,v in zip(keys, tf_idf_vectors):\n",
    "        dict_tf_idf_vectors[k] = v\n",
    "    \n",
    "    features = sparse.csr_matrix(np.empty((0, (len(cv.get_feature_names())*2)+1)))\n",
    "    for index in range(length_data):\n",
    "        print(index)\n",
    "        fa_id = tid1s[index]\n",
    "        ca_id = tid2s[index]\n",
    "        fa_v = dict_tf_idf_vectors[fa_id]\n",
    "        ca_v = dict_tf_idf_vectors[ca_id]\n",
    "        vs = vstack([fa_v, ca_v])\n",
    "        cs = cosine_similarity(vs, dense_output=True)[0][1]\n",
    "        v = hstack([fa_v, cs, ca_v])\n",
    "        features = vstack([features, v])\n",
    "    \n",
    "    return features"
   ]
  },
  {
   "cell_type": "code",
   "execution_count": 5,
   "metadata": {},
   "outputs": [],
   "source": [
    "def test_input_data_preprocessing(data_train = None, data_test = None):\n",
    "    \n",
    "    df_id = data_train['id']\n",
    "    ids = df_id.to_numpy()\n",
    "    df_tid1 = data_train['tid1']\n",
    "    tid1s = df_tid1.to_numpy()\n",
    "    df_tid2 = data_train['tid2']\n",
    "    tid2s = df_tid2.to_numpy()\n",
    "    df_title1_en = data_train['title1_en']\n",
    "    title1_ens = df_title1_en.to_numpy()\n",
    "    df_title2_en = data_train['title2_en']\n",
    "    title2_ens = df_title2_en.to_numpy()\n",
    "    \n",
    "    length_data = data_train.shape[0]\n",
    "    \n",
    "    dict_title_ens = dict()\n",
    "    for index in range(length_data):\n",
    "        dict_title_ens[tid1s[index]] = title1_ens[index]\n",
    "        dict_title_ens[tid2s[index]] = title2_ens[index]\n",
    "    \n",
    "    dict_tokens_articles = dict()\n",
    "    for key_article in dict_title_ens.keys():\n",
    "        text_article = dict_title_ens[key_article]\n",
    "        corpus_article = nltk.sent_tokenize(text_article)\n",
    "        for index in range(len(corpus_article)):\n",
    "            corpus_article[index] = corpus_article[index].lower()\n",
    "            corpus_article[index] = re.sub(r'\\W', ' ', corpus_article[index])\n",
    "            corpus_article[index] = re.sub(r'\\s+', ' ', corpus_article[index])\n",
    "        tokens_article = \"\"\n",
    "        for sentence_article in corpus_article:\n",
    "            tokens = nltk.word_tokenize(sentence_article)\n",
    "            for token in tokens:\n",
    "                tokens_article += f'{token} '\n",
    "        dict_tokens_articles[key_article] = tokens_article.strip()\n",
    "    \n",
    "    keys = dict_tokens_articles.keys()\n",
    "    values = dict_tokens_articles.values()\n",
    "    \n",
    "    cv=CountVectorizer()\n",
    "    word_count_vector = cv.fit_transform(values)\n",
    "    tf_idf_transformer = TfidfTransformer(smooth_idf=True, use_idf=True)\n",
    "    tf_idf_transformer.fit(word_count_vector)\n",
    "\n",
    "    df_id = data_test['id']\n",
    "    ids = df_id.to_numpy()\n",
    "    df_tid1 = data_test['tid1']\n",
    "    tid1s = df_tid1.to_numpy()\n",
    "    df_tid2 = data_test['tid2']\n",
    "    tid2s = df_tid2.to_numpy()\n",
    "    df_title1_en = data_test['title1_en']\n",
    "    title1_ens = df_title1_en.to_numpy()\n",
    "    df_title2_en = data_test['title2_en']\n",
    "    title2_ens = df_title2_en.to_numpy()\n",
    "    \n",
    "    length_data = data_test.shape[0]\n",
    "    \n",
    "    dict_title_ens = dict()\n",
    "    for index in range(length_data):\n",
    "        dict_title_ens[tid1s[index]] = title1_ens[index]\n",
    "        dict_title_ens[tid2s[index]] = title2_ens[index]\n",
    "    \n",
    "    dict_tokens_articles = dict()\n",
    "    for key_article in dict_title_ens.keys():\n",
    "        text_article = dict_title_ens[key_article]\n",
    "        corpus_article = nltk.sent_tokenize(text_article)\n",
    "        for index in range(len(corpus_article)):\n",
    "            corpus_article[index] = corpus_article[index].lower()\n",
    "            corpus_article[index] = re.sub(r'\\W', ' ', corpus_article[index])\n",
    "            corpus_article[index] = re.sub(r'\\s+', ' ', corpus_article[index])\n",
    "        tokens_article = \"\"\n",
    "        for sentence_article in corpus_article:\n",
    "            tokens = nltk.word_tokenize(sentence_article)\n",
    "            for token in tokens:\n",
    "                tokens_article += f'{token} '\n",
    "        dict_tokens_articles[key_article] = tokens_article.strip()\n",
    "    \n",
    "    keys = dict_tokens_articles.keys()\n",
    "    values = dict_tokens_articles.values()\n",
    "\n",
    "    count_vector = cv.transform(values)\n",
    "    tf_idf_vectors = tf_idf_transformer.transform(count_vector)\n",
    "    \n",
    "    dict_tf_idf_vectors = dict()\n",
    "    for k,v in zip(keys, tf_idf_vectors):\n",
    "        dict_tf_idf_vectors[k] = v\n",
    "    \n",
    "    features = sparse.csr_matrix(np.empty((0, (len(cv.get_feature_names())*2)+1)))\n",
    "    for index in range(length_data):\n",
    "        print(index)\n",
    "        fa_id = tid1s[index]\n",
    "        ca_id = tid2s[index]\n",
    "        fa_v = dict_tf_idf_vectors[fa_id]\n",
    "        ca_v = dict_tf_idf_vectors[ca_id]\n",
    "        vs = vstack([fa_v, ca_v])\n",
    "        cs = cosine_similarity(vs, dense_output=True)[0][1]\n",
    "        v = hstack([fa_v, cs, ca_v])\n",
    "        features = vstack([features, v])\n",
    "    \n",
    "    return features"
   ]
  },
  {
   "cell_type": "code",
   "execution_count": 6,
   "metadata": {},
   "outputs": [],
   "source": [
    "def output_data_preprocessing(data = None):\n",
    "    \n",
    "    df_label = data['label']\n",
    "    output_labels = df_label.to_numpy()\n",
    "    \n",
    "    label_encoder = preprocessing.LabelEncoder()\n",
    "    integer_encoded = label_encoder.fit_transform(output_labels)\n",
    "    \n",
    "    onehot_encoder = preprocessing.OneHotEncoder(sparse=False)\n",
    "    integer_encoded = integer_encoded.reshape(len(integer_encoded), 1)\n",
    "    onehot_encoded = onehot_encoder.fit_transform(integer_encoded)\n",
    "    \n",
    "    labels = onehot_encoded\n",
    "    labels = sparse.csr_matrix(labels)\n",
    "    \n",
    "    return labels"
   ]
  },
  {
   "cell_type": "markdown",
   "metadata": {},
   "source": [
    "# load training data"
   ]
  },
  {
   "cell_type": "code",
   "execution_count": 7,
   "metadata": {},
   "outputs": [
    {
     "name": "stdout",
     "output_type": "stream",
     "text": [
      "(256442, 6)\n"
     ]
    }
   ],
   "source": [
    "train_data_file = f'{input_data_dir}\\\\train.csv'\n",
    "df_train_data = pd.read_csv(f'{train_data_file}')\n",
    "print(df_train_data.shape)"
   ]
  },
  {
   "cell_type": "markdown",
   "metadata": {},
   "source": [
    "# training data preprocessing and feature extraction"
   ]
  },
  {
   "cell_type": "code",
   "execution_count": 8,
   "metadata": {},
   "outputs": [
    {
     "name": "stdout",
     "output_type": "stream",
     "text": [
      "(256442, 1)\n",
      "(256442, 81237)\n",
      "(256442, 3)\n"
     ]
    }
   ],
   "source": [
    "train_ids = id_preprocessing(data = df_train_data)\n",
    "\n",
    "train_features = None\n",
    "if os.path.exists(f'{features_data_dir}\\\\train-features.npz'):\n",
    "    train_features = sparse.load_npz(f'{features_data_dir}\\\\train-features.npz').tocsr()\n",
    "else:\n",
    "    train_features = train_input_data_preprocessing(data = df_train_data)\n",
    "    sparse.save_npz(f'{features_data_dir}\\\\train-features.npz', train_features)\n",
    "\n",
    "train_labels = output_data_preprocessing(data = df_train_data)\n",
    "\n",
    "print(train_ids.shape)\n",
    "print(train_features.shape)\n",
    "print(train_labels.shape)"
   ]
  },
  {
   "cell_type": "markdown",
   "metadata": {},
   "source": [
    "# train model"
   ]
  },
  {
   "cell_type": "code",
   "execution_count": 9,
   "metadata": {},
   "outputs": [
    {
     "name": "stderr",
     "output_type": "stream",
     "text": [
      "C:\\Users\\yashm\\Anaconda3\\lib\\site-packages\\sklearn\\base.py:334: UserWarning: Trying to unpickle estimator LabelBinarizer from version 0.22.2.post1 when using version 0.23.2. This might lead to breaking code or invalid results. Use at your own risk.\n",
      "  UserWarning)\n",
      "C:\\Users\\yashm\\Anaconda3\\lib\\site-packages\\sklearn\\base.py:334: UserWarning: Trying to unpickle estimator MLPClassifier from version 0.22.2.post1 when using version 0.23.2. This might lead to breaking code or invalid results. Use at your own risk.\n",
      "  UserWarning)\n"
     ]
    },
    {
     "name": "stdout",
     "output_type": "stream",
     "text": [
      "Train Accuracy : 0.9983894993799768\n"
     ]
    }
   ],
   "source": [
    "model = None\n",
    "\n",
    "if os.path.exists(f'{model_data_dir}\\\\{model_file_name}'):\n",
    "    model = pickle.load(open(f'{model_data_dir}\\\\{model_file_name}', 'rb'))\n",
    "else:\n",
    "    model = MLPClassifier(\n",
    "        activation='relu',\n",
    "        solver='adam',\n",
    "        learning_rate='adaptive',\n",
    "        batch_size=128,\n",
    "        hidden_layer_sizes=(100), \n",
    "        random_state=random_seed,\n",
    "        verbose=True,\n",
    "        shuffle=True,\n",
    "        max_iter=iterations\n",
    "    )\n",
    "    model.fit(train_features, train_labels)\n",
    "    pickle.dump(model, open(f'{model_data_dir}\\\\{model_file_name}', 'wb'))\n",
    "\n",
    "score = model.score(train_features, train_labels)\n",
    "print(f'Train Accuracy : {score}')"
   ]
  },
  {
   "cell_type": "code",
   "execution_count": 10,
   "metadata": {},
   "outputs": [],
   "source": [
    "pred = model.predict(train_features).todense()\n",
    "\n",
    "labels = ['agreed', 'disagreed', 'unrelated']\n",
    "train_pred = list()\n",
    "\n",
    "for i in range(train_ids.shape[0]):\n",
    "    label = None\n",
    "    if pred[i, 0] == 1:\n",
    "        label = labels[0]\n",
    "    elif pred[i, 1] == 1:\n",
    "        label = labels[1]\n",
    "    elif pred[i, 2] == 1:\n",
    "        label = labels[2]\n",
    "    if label == None:\n",
    "        label = labels[2]\n",
    "    train_pred.append(np.array([train_ids[i,0], label]))\n",
    "\n",
    "train_pred = np.array(train_pred)\n",
    "train_pred_df = pd.DataFrame(train_pred, columns = ['id', 'label'])"
   ]
  },
  {
   "cell_type": "code",
   "execution_count": 11,
   "metadata": {},
   "outputs": [
    {
     "name": "stdout",
     "output_type": "stream",
     "text": [
      "           agreed  disagreed  unrelated\n",
      "agreed      74128          0        110\n",
      "disagreed      13       6550         43\n",
      "unrelated     122         31     175445\n"
     ]
    },
    {
     "data": {
      "text/plain": [
       "<AxesSubplot:>"
      ]
     },
     "execution_count": 11,
     "metadata": {},
     "output_type": "execute_result"
    },
    {
     "data": {
      "image/png": "[encoded data removed]",
      "text/plain": [
       "<Figure size 720x504 with 2 Axes>"
      ]
     },
     "metadata": {
      "needs_background": "light"
     },
     "output_type": "display_data"
    }
   ],
   "source": [
    "cm = confusion_matrix(df_train_data['label'].to_numpy().tolist(), train_pred_df['label'].to_numpy().tolist(), labels=['agreed', 'disagreed', 'unrelated'])\n",
    "df_cm = pd.DataFrame(cm, index = ['agreed', 'disagreed', 'unrelated'], columns = ['agreed', 'disagreed', 'unrelated'])\n",
    "print(df_cm)\n",
    "plt.figure(figsize = (10,7))\n",
    "sn.heatmap(df_cm, annot=True)"
   ]
  },
  {
   "cell_type": "code",
   "execution_count": 12,
   "metadata": {},
   "outputs": [
    {
     "name": "stdout",
     "output_type": "stream",
     "text": [
      "           precision    recall    fscore   support\n",
      "agreed      0.998182  0.998518  0.998350   74238.0\n",
      "disagreed   0.995289  0.991523  0.993403    6606.0\n",
      "unrelated   0.999129  0.999129  0.999129  175598.0\n"
     ]
    }
   ],
   "source": [
    "prfs = precision_recall_fscore_support(df_train_data['label'].to_numpy().tolist(), train_pred_df['label'].to_numpy().tolist(), labels=['agreed', 'disagreed', 'unrelated'], average=None)\n",
    "prfs = np.array(prfs)\n",
    "df_prfs = pd.DataFrame(prfs.T, index = ['agreed', 'disagreed', 'unrelated'], columns = ['precision', 'recall', 'fscore', 'support'])\n",
    "print(df_prfs)"
   ]
  },
  {
   "cell_type": "markdown",
   "metadata": {},
   "source": [
    "# load testing data"
   ]
  },
  {
   "cell_type": "code",
   "execution_count": 16,
   "metadata": {},
   "outputs": [
    {
     "name": "stdout",
     "output_type": "stream",
     "text": [
      "(64110, 5)\n"
     ]
    }
   ],
   "source": [
    "test_data_file = f'{input_data_dir}\\\\test.csv'\n",
    "df_test_data = pd.read_csv(f'{test_data_file}')\n",
    "print(df_test_data.shape)"
   ]
  },
  {
   "cell_type": "markdown",
   "metadata": {},
   "source": [
    "# testing data preprocessing and feature extraction"
   ]
  },
  {
   "cell_type": "code",
   "execution_count": 19,
   "metadata": {},
   "outputs": [
    {
     "name": "stdout",
     "output_type": "stream",
     "text": [
      "(64110, 1)\n",
      "(64110, 81237)\n"
     ]
    }
   ],
   "source": [
    "test_ids = id_preprocessing(data = df_test_data).todense()\n",
    "\n",
    "test_features = None\n",
    "if os.path.exists(f'{features_data_dir}\\\\test-features.npz'):\n",
    "    test_features = sparse.load_npz(f'{features_data_dir}\\\\test-features.npz').tocsr()\n",
    "else:\n",
    "    test_features = test_input_data_preprocessing(data_train = df_train_data, data_test = df_test_data)\n",
    "    sparse.save_npz(f'{features_data_dir}\\\\test-features.npz', test_features)\n",
    "\n",
    "print(test_ids.shape)\n",
    "print(test_features.shape)"
   ]
  },
  {
   "cell_type": "code",
   "execution_count": 26,
   "metadata": {},
   "outputs": [],
   "source": [
    "pred = model.predict(test_features).todense()\n",
    "\n",
    "labels = ['agreed', 'disagreed', 'unrelated']\n",
    "test_pred = list()\n",
    "\n",
    "for i in range(test_ids.shape[0]):\n",
    "    label = None\n",
    "    if pred[i, 0] == 1:\n",
    "        label = labels[0]\n",
    "    elif pred[i, 1] == 1:\n",
    "        label = labels[1]\n",
    "    elif pred[i, 2] == 1:\n",
    "        label = labels[2]\n",
    "    if label == None:\n",
    "        label = labels[2]\n",
    "    test_pred.append(np.array([test_ids[i,0], label]))\n",
    "\n",
    "test_pred = np.array(test_pred)\n",
    "test_pred_df = pd.DataFrame(test_pred, columns = ['id', 'label'])\n",
    "\n",
    "header = ['id','label']\n",
    "test_pred_df.to_csv(f'{output_data_dir}\\\\submission_mlp_{iterations}.csv', columns = header,index=False)"
   ]
  },
  {
   "cell_type": "code",
   "execution_count": null,
   "metadata": {},
   "outputs": [],
   "source": []
  }
 ],
 "metadata": {
  "kernelspec": {
   "display_name": "Python 3",
   "language": "python",
   "name": "python3"
  },
  "language_info": {
   "codemirror_mode": {
    "name": "ipython",
    "version": 3
   },
   "file_extension": ".py",
   "mimetype": "text/x-python",
   "name": "python",
   "nbconvert_exporter": "python",
   "pygments_lexer": "ipython3",
   "version": "3.7.3"
  }
 },
 "nbformat": 4,
 "nbformat_minor": 4
}
