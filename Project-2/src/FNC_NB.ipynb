{
 "cells": [
  {
   "cell_type": "markdown",
   "metadata": {},
   "source": [
    "# imports"
   ]
  },
  {
   "cell_type": "code",
   "execution_count": 20,
   "metadata": {},
   "outputs": [],
   "source": [
    "from collections import Counter\n",
    "from math import log, exp\n",
    "import re\n",
    "import os\n",
    "import sys\n",
    "import numpy as np\n",
    "import pandas as pd\n",
    "from bs4 import BeautifulSoup as bs\n",
    "import nltk\n",
    "import re\n",
    "import heapq\n",
    "from sklearn.metrics import confusion_matrix, precision_recall_fscore_support\n",
    "import seaborn as sn\n",
    "import matplotlib.pyplot as plt"
   ]
  },
  {
   "cell_type": "markdown",
   "metadata": {},
   "source": [
    "# parameters"
   ]
  },
  {
   "cell_type": "code",
   "execution_count": 2,
   "metadata": {},
   "outputs": [],
   "source": [
    "ALPHA = 1.0\n",
    "random_seed = 2020\n",
    "input_data_dir = f'{os.getcwd()}\\\\option1-data'\n",
    "output_data_dir = f'{os.getcwd()}\\\\submission-data'"
   ]
  },
  {
   "cell_type": "markdown",
   "metadata": {},
   "source": [
    "# naive bayes model"
   ]
  },
  {
   "cell_type": "code",
   "execution_count": 3,
   "metadata": {},
   "outputs": [],
   "source": [
    "class NaiveBayes:\n",
    "    \n",
    "    def __init__(self):\n",
    "        \n",
    "        self.word_count_agreed_1 = Counter()\n",
    "        self.word_count_disagreed_1 = Counter()\n",
    "        self.word_count_unrelated_1 = Counter()\n",
    "                \n",
    "        self.total_agreed_words_1 = 0\n",
    "        self.total_disagreed_words_1 = 0\n",
    "        self.total_unrelated_words_1 = 0\n",
    "        \n",
    "        self.word_count_agreed_2 = Counter()\n",
    "        self.word_count_disagreed_2 = Counter()\n",
    "        self.word_count_unrelated_2 = Counter()\n",
    "        \n",
    "        self.total_agreed_words_2 = 0\n",
    "        self.total_disagreed_words_2 = 0\n",
    "        self.total_unrelated_words_2 = 0\n",
    "        \n",
    "        self.num_agreed_match = 0\n",
    "        self.num_disagreed_match = 0\n",
    "        self.num_unrelated_match = 0\n",
    "        \n",
    "        self.p_agreed = 0.0\n",
    "        self.p_disagreed = 0.0\n",
    "        self.p_unrelated = 0.0\n",
    "        \n",
    "        self.vocab_1 = None\n",
    "        self.vocab_2 = None\n",
    "    \n",
    "    def train(self, train_dataset=None, validation_dataset=None, alpha=None):\n",
    "                        \n",
    "        for index, row in train_dataset.iterrows():\n",
    "            \n",
    "            title1 = row['title1_en']\n",
    "            title2 = row['title2_en']\n",
    "            label = row['label']\n",
    "            \n",
    "            if label == 'agreed':\n",
    "                self.num_agreed_match += 1\n",
    "            elif label == 'disagreed':\n",
    "                self.num_disagreed_match += 1\n",
    "            elif label == 'unrelated':\n",
    "                self.num_unrelated_match += 1\n",
    "            \n",
    "            corpus1 = nltk.sent_tokenize(title1)\n",
    "            corpus2 = nltk.sent_tokenize(title2)\n",
    "            \n",
    "            for ind in range(len(corpus1)):\n",
    "                corpus1[ind] = corpus1[ind].lower()\n",
    "                corpus1[ind] = re.sub(r'\\W', ' ', corpus1[ind])\n",
    "                corpus1[ind] = re.sub(r'\\s+', ' ', corpus1[ind])\n",
    "            for ind in range(len(corpus2)):\n",
    "                corpus2[ind] = corpus2[ind].lower()\n",
    "                corpus2[ind] = re.sub(r'\\W', ' ', corpus2[ind])\n",
    "                corpus2[ind] = re.sub(r'\\s+', ' ', corpus2[ind])\n",
    "            \n",
    "            for sentence in corpus1:\n",
    "                tokens = nltk.word_tokenize(sentence)\n",
    "                for token in tokens:\n",
    "                    if label == 'agreed':\n",
    "                        self.total_agreed_words_1 += 1\n",
    "                        self.word_count_agreed_1[token] += 1\n",
    "                    elif label == 'disagreed':\n",
    "                        self.total_disagreed_words_1 += 1\n",
    "                        self.word_count_disagreed_1[token] += 1\n",
    "                    elif label == 'unrelated':\n",
    "                        self.total_unrelated_words_1 += 1\n",
    "                        self.word_count_unrelated_1[token] += 1\n",
    "            for sentence in corpus2:\n",
    "                tokens = nltk.word_tokenize(sentence)\n",
    "                for token in tokens:\n",
    "                    if label == 'agreed':\n",
    "                        self.total_agreed_words_2 += 1\n",
    "                        self.word_count_agreed_2[token] += 1\n",
    "                    elif label == 'disagreed':\n",
    "                        self.total_disagreed_words_2 += 1\n",
    "                        self.word_count_disagreed_2[token] += 1\n",
    "                    elif label == 'unrelated':\n",
    "                        self.total_unrelated_words_2 += 1\n",
    "                        self.word_count_unrelated_2[token] += 1\n",
    "            \n",
    "        self.vocab_1 = set(list(self.word_count_agreed_1.keys()) + list(self.word_count_disagreed_1.keys()) + list(self.word_count_unrelated_1.keys()))\n",
    "        self.vocab_2 = set(list(self.word_count_agreed_2.keys()) + list(self.word_count_disagreed_2.keys()) + list(self.word_count_unrelated_2.keys()))\n",
    "\n",
    "        self.p_agreed = log(float(self.num_agreed_match)) - log(float(self.num_agreed_match + self.num_disagreed_match + self.num_unrelated_match))\n",
    "        self.p_disagreed = log(float(self.num_disagreed_match)) - log(float(self.num_agreed_match + self.num_disagreed_match + self.num_unrelated_match))\n",
    "        self.p_unrelated = log(float(self.num_unrelated_match)) - log(float(self.num_agreed_match + self.num_disagreed_match + self.num_unrelated_match))\n",
    "        \n",
    "        validation_result = self.predict(test_dataset=validation_dataset, alpha=alpha)\n",
    "        \n",
    "        accuracy = np.sum(np.equal(validation_result['label'].to_numpy(), validation_dataset['label'].to_numpy())) / float(validation_result.shape[0])\n",
    "        \n",
    "        return accuracy\n",
    "    \n",
    "    def predict(self, test_dataset=None, alpha=None):\n",
    "        \n",
    "        pred = pd.DataFrame(columns = ['id', 'prob', 'label'], index = test_dataset.index.values.tolist())\n",
    "        \n",
    "        labels = ['agreed', 'disagreed', 'unrelated']\n",
    "        \n",
    "        for index, row in test_dataset.iterrows():\n",
    "            \n",
    "            id_instance = row['id']\n",
    "            title1 = row['title1_en']\n",
    "            title2 = row['title2_en']\n",
    "            \n",
    "            sum_agreed_1 = 0.0\n",
    "            sum_disagreed_1 = 0.0\n",
    "            sum_unrelated_1 = 0.0\n",
    "            \n",
    "            sum_agreed_2 = 0.0\n",
    "            sum_disagreed_2 = 0.0\n",
    "            sum_unrelated_2 = 0.0\n",
    "            \n",
    "            corpus1 = nltk.sent_tokenize(title1)\n",
    "            corpus2 = nltk.sent_tokenize(title2)\n",
    "            \n",
    "            for ind in range(len(corpus1)):\n",
    "                corpus1[ind] = corpus1[ind].lower()\n",
    "                corpus1[ind] = re.sub(r'\\W', ' ', corpus1[ind])\n",
    "                corpus1[ind] = re.sub(r'\\s+', ' ', corpus1[ind])\n",
    "            for ind in range(len(corpus2)):\n",
    "                corpus2[ind] = corpus2[ind].lower()\n",
    "                corpus2[ind] = re.sub(r'\\W', ' ', corpus2[ind])\n",
    "                corpus2[ind] = re.sub(r'\\s+', ' ', corpus2[ind])\n",
    "            \n",
    "            for sentence in corpus1:\n",
    "                tokens = nltk.word_tokenize(sentence)\n",
    "                for token in tokens:\n",
    "                    sum_agreed_1 += log(float(self.word_count_agreed_1[token] + alpha) / float(self.total_agreed_words_1 + (alpha * len(self.vocab_1))))\n",
    "                    sum_disagreed_1 += log(float(self.word_count_disagreed_1[token] + alpha) / float(self.total_disagreed_words_1 + (alpha * len(self.vocab_1))))\n",
    "                    sum_unrelated_1 += log(float(self.word_count_unrelated_1[token] + alpha) / float(self.total_unrelated_words_1 + (alpha * len(self.vocab_1))))\n",
    "            for sentence in corpus2:\n",
    "                tokens = nltk.word_tokenize(sentence)\n",
    "                for token in tokens:\n",
    "                    sum_agreed_2 += log(float(self.word_count_agreed_2[token] + alpha) / float(self.total_agreed_words_2 + (alpha * len(self.vocab_2))))\n",
    "                    sum_disagreed_2 += log(float(self.word_count_disagreed_2[token] + alpha) / float(self.total_disagreed_words_2 + (alpha * len(self.vocab_2))))\n",
    "                    sum_unrelated_2 += log(float(self.word_count_unrelated_2[token] + alpha) / float(self.total_unrelated_words_2 + (alpha * len(self.vocab_2))))\n",
    "            \n",
    "            sum_agreed = sum_agreed_1 + sum_agreed_2 + self.p_agreed\n",
    "            sum_disagreed = sum_disagreed_1 + sum_disagreed_2 + self.p_disagreed\n",
    "            sum_unrelated = sum_unrelated_1 + sum_unrelated_2 + self.p_unrelated\n",
    "            \n",
    "            normalization_factor = self.log_sum(sum_agreed, sum_disagreed, sum_unrelated)\n",
    "            \n",
    "            predicted_prob_agreed = exp(sum_agreed - normalization_factor)\n",
    "            predicted_prob_disagreed = exp(sum_disagreed - normalization_factor)\n",
    "            predicted_prob_unrelated = 1.0 - (predicted_prob_agreed + predicted_prob_disagreed)\n",
    "            \n",
    "            probs = [predicted_prob_agreed, predicted_prob_disagreed, predicted_prob_unrelated]\n",
    "            ind = np.argmax(probs)\n",
    "            prob = probs[ind]\n",
    "            label = labels[ind]\n",
    "            \n",
    "            pred.loc[index] = [id_instance, prob, label]\n",
    "            \n",
    "        return pred\n",
    "    \n",
    "    def log_sum(self, logx, logy, logz):\n",
    "        m = max(logx, logy, logz)\n",
    "        return m + log(exp(logx - m) + exp(logy - m) + exp(logz - m))"
   ]
  },
  {
   "cell_type": "markdown",
   "metadata": {},
   "source": [
    "# load training data"
   ]
  },
  {
   "cell_type": "code",
   "execution_count": 4,
   "metadata": {},
   "outputs": [
    {
     "name": "stdout",
     "output_type": "stream",
     "text": [
      "(256442, 6)\n"
     ]
    }
   ],
   "source": [
    "data_file = f'{input_data_dir}\\\\train.csv'\n",
    "df = pd.read_csv(f'{data_file}')\n",
    "\n",
    "print(df.shape)"
   ]
  },
  {
   "cell_type": "code",
   "execution_count": 6,
   "metadata": {},
   "outputs": [
    {
     "name": "stdout",
     "output_type": "stream",
     "text": [
      "(256442, 6) (0, 6)\n"
     ]
    }
   ],
   "source": [
    "train_ratio = 100/100\n",
    "validation_ratio = 0/100\n",
    "\n",
    "train_data, validation_data = np.split(df.sample(frac=1, random_state=random_seed), [int(train_ratio * df.shape[0])])\n",
    "\n",
    "print(train_data.shape, validation_data.shape)"
   ]
  },
  {
   "cell_type": "markdown",
   "metadata": {},
   "source": [
    "# train model"
   ]
  },
  {
   "cell_type": "code",
   "execution_count": 7,
   "metadata": {},
   "outputs": [
    {
     "name": "stdout",
     "output_type": "stream",
     "text": [
      "Validation Accuracy: nan%\n"
     ]
    },
    {
     "name": "stderr",
     "output_type": "stream",
     "text": [
      "C:\\Users\\yashm\\Anaconda3\\lib\\site-packages\\ipykernel_launcher.py:93: RuntimeWarning: invalid value encountered in true_divide\n"
     ]
    }
   ],
   "source": [
    "nb = NaiveBayes()\n",
    "accuracy = nb.train(train_dataset=train_data, validation_dataset=validation_data, alpha=ALPHA)\n",
    "print(\"Validation Accuracy: {:.2f}%\".format(100 * accuracy))"
   ]
  },
  {
   "cell_type": "code",
   "execution_count": 9,
   "metadata": {},
   "outputs": [],
   "source": [
    "pred_df = nb.predict(test_dataset=train_data, alpha=ALPHA)"
   ]
  },
  {
   "cell_type": "code",
   "execution_count": null,
   "metadata": {},
   "outputs": [],
   "source": [
    "accuracy = np.sum(np.equal(pred_df['label'].to_numpy(), train_data['label'].to_numpy())) / float(pred_df.shape[0])\n",
    "print(\"Train Accuracy: {:.2f}%\".format(100 * accuracy))"
   ]
  },
  {
   "cell_type": "code",
   "execution_count": 19,
   "metadata": {},
   "outputs": [
    {
     "name": "stdout",
     "output_type": "stream",
     "text": [
      "           agreed  disagreed  unrelated\n",
      "agreed      58499        856      14883\n",
      "disagreed     108       3941       2557\n",
      "unrelated   41776       6139     127683\n"
     ]
    },
    {
     "data": {
      "text/plain": [
       "<AxesSubplot:>"
      ]
     },
     "execution_count": 19,
     "metadata": {},
     "output_type": "execute_result"
    },
    {
     "data": {
      "image/png": "[encoded data removed]",
      "text/plain": [
       "<Figure size 720x504 with 2 Axes>"
      ]
     },
     "metadata": {
      "needs_background": "light"
     },
     "output_type": "display_data"
    }
   ],
   "source": [
    "cm = confusion_matrix(train_data['label'].to_numpy().tolist(), pred_df['label'].to_numpy().tolist(), labels=['agreed', 'disagreed', 'unrelated'])\n",
    "df_cm = pd.DataFrame(cm, index = ['agreed', 'disagreed', 'unrelated'], columns = ['agreed', 'disagreed', 'unrelated'])\n",
    "print(df_cm)\n",
    "plt.figure(figsize = (10,7))\n",
    "sn.heatmap(df_cm, annot=True)"
   ]
  },
  {
   "cell_type": "code",
   "execution_count": 25,
   "metadata": {},
   "outputs": [
    {
     "name": "stdout",
     "output_type": "stream",
     "text": [
      "           precision    recall    fscore   support\n",
      "agreed      0.582758  0.787993  0.670011   74238.0\n",
      "disagreed   0.360369  0.596579  0.449322    6606.0\n",
      "unrelated   0.879826  0.727132  0.796225  175598.0\n"
     ]
    }
   ],
   "source": [
    "prfs = precision_recall_fscore_support(train_data['label'].to_numpy().tolist(), pred_df['label'].to_numpy().tolist(), labels=['agreed', 'disagreed', 'unrelated'], average=None)\n",
    "prfs = np.array(prfs)\n",
    "df_prfs = pd.DataFrame(prfs.T, index = ['agreed', 'disagreed', 'unrelated'], columns = ['precision', 'recall', 'fscore', 'support'])\n",
    "print(df_prfs)"
   ]
  },
  {
   "cell_type": "markdown",
   "metadata": {},
   "source": [
    "# load testing data"
   ]
  },
  {
   "cell_type": "code",
   "execution_count": 8,
   "metadata": {},
   "outputs": [
    {
     "name": "stdout",
     "output_type": "stream",
     "text": [
      "(64110, 5)\n"
     ]
    }
   ],
   "source": [
    "test_data_file = f'{input_data_dir}\\\\test.csv'\n",
    "test_data = pd.read_csv(f'{test_data_file}')\n",
    "\n",
    "print(test_data.shape)"
   ]
  },
  {
   "cell_type": "markdown",
   "metadata": {},
   "source": [
    "# test model"
   ]
  },
  {
   "cell_type": "code",
   "execution_count": 28,
   "metadata": {},
   "outputs": [],
   "source": [
    "pred_df = nb.predict(test_dataset=test_data, alpha=ALPHA)\n",
    "header = ['id','label']\n",
    "pred_df.to_csv(f'{output_data_dir}\\\\submission_nb.csv', columns = header,index=False)"
   ]
  },
  {
   "cell_type": "code",
   "execution_count": null,
   "metadata": {},
   "outputs": [],
   "source": []
  }
 ],
 "metadata": {
  "kernelspec": {
   "display_name": "Python 3",
   "language": "python",
   "name": "python3"
  },
  "language_info": {
   "codemirror_mode": {
    "name": "ipython",
    "version": 3
   },
   "file_extension": ".py",
   "mimetype": "text/x-python",
   "name": "python",
   "nbconvert_exporter": "python",
   "pygments_lexer": "ipython3",
   "version": "3.7.3"
  }
 },
 "nbformat": 4,
 "nbformat_minor": 4
}
